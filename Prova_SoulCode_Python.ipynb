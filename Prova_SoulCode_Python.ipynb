{
  "nbformat": 4,
  "nbformat_minor": 0,
  "metadata": {
    "colab": {
      "name": "Prova_01_Marina.ipynb",
      "provenance": [],
      "collapsed_sections": []
    },
    "kernelspec": {
      "name": "python3",
      "display_name": "Python 3"
    },
    "language_info": {
      "name": "python"
    }
  },
  "cells": [
    {
      "cell_type": "code",
      "execution_count": null,
      "metadata": {
        "colab": {
          "base_uri": "https://localhost:8080/"
        },
        "id": "flARvhkWtXV_",
        "outputId": "1a7580be-4980-4ef3-8f99-f09c4661149a"
      },
      "outputs": [
        {
          "output_type": "stream",
          "name": "stdout",
          "text": [
            "Escreva uma frase e descubra se ela é um palíndromo: o lobo ama o bolo\n",
            "Esta frase é um palíndromo\n"
          ]
        }
      ],
      "source": [
        "#1) Um palíndromo é uma palavra ou frase que pode ser lida no seu sentido normal,\n",
        "#da esquerda para a direita, bem como no sentido contrário, da direita para a esquerda,\n",
        "#sem que haja mudança nas palavras que a formam e no seu significado.\n",
        "#Exemplos: \n",
        "#a ) amor a roma      b) o lobo ama o bolo    c) socorram-me subi no onibus em marrocos\n",
        "#Crie um algoritmo em Python que leia um string e diga se ela é ou não é um palíndromo.\n",
        "\n",
        "\n",
        "palin = input('Escreva uma frase e descubra se ela é um palíndromo: ')\n",
        "palin = palin.replace(\" \", \"\")\n",
        "\n",
        "if palin == palin[::-1]:\n",
        "  print('Esta frase é um palíndromo')\n",
        "else:\n",
        "  print('Esta frase não é um palíndromo')\n",
        "\n"
      ]
    },
    {
      "cell_type": "code",
      "source": [
        "#2) Crie um algoritmo em python que leia um número inteiro N,\n",
        "# positivo e mostre na tela a soma dos números de 1 até N.     ( 1 + 2 + 3 + 4 ……. + N)\n",
        "\n",
        "# Ex: N = 5      -     Deverá mostrar na tela (15)             -     1 + 2 + 3 + 4 + 5 = 15\n",
        "# Ex: N = 7      -     Deverá mostrar na tela (28)             -     1 + 2 + 3 + 4 + 5 + 6 + 7 = 28\n",
        "\n",
        "soma = 0\n",
        "i = 1\n",
        "while True:\n",
        "  try:\n",
        "    a = int(input('Digite um número positivo: '))\n",
        "    while a < 0:\n",
        "      print('Digite um valor positivo.')\n",
        "      a = int(input('Digite um número: '))\n",
        "    break\n",
        "  except:\n",
        "    print('Digite um número inteiro positivo.')\n",
        "\n",
        "while i <= a:\n",
        "  soma += i\n",
        "  i += 1\n",
        "\n",
        "print(f\"A soma dos números de 1 a {a} é {soma}\")\n"
      ],
      "metadata": {
        "colab": {
          "base_uri": "https://localhost:8080/"
        },
        "id": "7Q-vhLUZvmAw",
        "outputId": "e11869a4-a02c-48b0-c97c-98eec36b952b"
      },
      "execution_count": null,
      "outputs": [
        {
          "output_type": "stream",
          "name": "stdout",
          "text": [
            "Digite um número positivo: 3\n",
            "A soma dos números de 1 a 3 é 6\n"
          ]
        }
      ]
    },
    {
      "cell_type": "code",
      "source": [
        "#3) Crie um algoritmo em python que leia um número inteiro positivo N e preencha uma lista\n",
        "#com os N primeiros números da sequência abaixo. O primeiro número da sequência é o 2.\n",
        "\n",
        "# 2      3        5        9        17        33        65     129       257 …………\n",
        "# o número da sequência é somado com seu número anterior.\n",
        "# n = n + (n-1)\n",
        "\n",
        "sequen = [2]\n",
        "n = 2\n",
        "\n",
        "while True:\n",
        "  try:\n",
        "    a = int(input('Digite um número positivo: '))\n",
        "    while a < 0:\n",
        "      print('Digite um valor positivo.')\n",
        "      a = int(input('Digite um número: '))\n",
        "    break\n",
        "  except:\n",
        "    print('Digite um número inteiro positivo.')\n",
        "  \n",
        "for i in range(a-1):\n",
        "  i += 1\n",
        "  n = n+(n-1)\n",
        "  sequen.append(n)\n",
        "\n",
        "print(f'Os {a} primeiros dígitos da sequência são: {sequen}')\n"
      ],
      "metadata": {
        "colab": {
          "base_uri": "https://localhost:8080/"
        },
        "id": "Qn86VJV7ytZU",
        "outputId": "6475716d-cc69-4fdc-bd47-e7641fd099d3"
      },
      "execution_count": null,
      "outputs": [
        {
          "output_type": "stream",
          "name": "stdout",
          "text": [
            "Digite um número positivo: 10\n",
            "Os 10 primeiros dígitos da sequência são: [2, 3, 5, 9, 17, 33, 65, 129, 257, 513]\n"
          ]
        }
      ]
    },
    {
      "cell_type": "code",
      "source": [
        " #4) Faça um algoritmo que leia e armazene em um dicionário informações sobre\n",
        "#nome, idade, altura, peso, cpf, rg,  endereço e telefone de uma pessoa.\n",
        "#Todos esses dados deverão ser enviados via usuário. Ao final, percorra o dicionário já criado\n",
        "#e exiba as informações que nele estão preenchidas.\n",
        "\n",
        "#Não esqueça de fazer as validações quanto a valores inteiros e reais.\n",
        "\n",
        "pessoas = {}\n",
        "while True:\n",
        "  try:\n",
        "    nome = str(input(f\"Digite o nome da pessoa: \"))\n",
        "    idade = int(input(f\"Digite a idade da pessoa: \"))\n",
        "    altura = float(input(f\"Digite a altura da pessoa: \"))\n",
        "    peso = float(input(f\"Digite o peso da pessoa: \"))\n",
        "    cpf = int(input(f\"Digite o CPF da pessoa: \"))\n",
        "    rg = int(input(f\"Digite o RG da pessoa: \"))\n",
        "    endereco = str(input(f\"Digite o endereço da pessoa: \"))\n",
        "    telefone = str(input(f\"Digite o telefone da pessoa: \"))\n",
        "    pessoas = {}\n",
        "    pessoas.update({'Nome': nome})\n",
        "    pessoas.update({'Idade': idade})\n",
        "    pessoas.update({'Altura': altura})\n",
        "    pessoas.update({'Peso': peso})\n",
        "    pessoas.update({'CPF': cpf})\n",
        "    pessoas.update({'RG': rg})\n",
        "    pessoas.update({'Endereco': endereco})\n",
        "    pessoas.update({'Telefone': telefone})\n",
        "    break\n",
        "  except:\n",
        "    print('Digite uma informação válida.')  \n",
        "      \n",
        "i = 1\n",
        "\n",
        "for i in pessoas:\n",
        "  print(pessoas)\n",
        "  break\n"
      ],
      "metadata": {
        "colab": {
          "base_uri": "https://localhost:8080/"
        },
        "id": "JCyHYSSj1nXp",
        "outputId": "40a87d6b-27ff-43e3-9f9f-8a45cc671194"
      },
      "execution_count": null,
      "outputs": [
        {
          "output_type": "stream",
          "name": "stdout",
          "text": [
            "Digite o nome da pessoa: Marina\n",
            "Digite a idade da pessoa: 20\n",
            "Digite a altura da pessoa: 1.2\n",
            "Digite o peso da pessoa: 34\n",
            "Digite o CPF da pessoa: 0323903\n",
            "Digite o RG da pessoa: 0101320\n",
            "Digite o endereço da pessoa: 0raua\n",
            "Digite o telefone da pessoa: 00202\n",
            "{'Nome': 'Marina', 'Idade': 20, 'Altura': 1.2, 'Peso': 34.0, 'CPF': 323903, 'RG': 101320, 'Endereco': '0raua', 'Telefone': '00202'}\n"
          ]
        }
      ]
    },
    {
      "cell_type": "code",
      "source": [
        "#5) Crie um programa que leia o valor de um salário em reais e calcule o valor do INSS\n",
        "#(de acordo com a faixa salarial), FGTS e Imposto de Renda(Se aplicável)\n",
        "#e ao final informe:\n",
        "  # o salário bruto,\n",
        "  #o valor de cada uma das retenções\n",
        "  #e o salário líquido do funcionário.\n",
        "#Você deverá usar funções para encontrar os valores de FGTS e INSS. O restante fica ao seu critério\n",
        "# INSS - \n",
        "# 12% (Até R$2400,00)\n",
        "# 15% (Acima de R$2400,00)\n",
        "\n",
        "# FGTS - 8%\n",
        "\n",
        "\n",
        "while True:\n",
        "  try:\n",
        "    s = float(input('Digite o valor do salário: R$'))\n",
        "  except:\n",
        "    print('Digite um número válido.')\n",
        "\n",
        "  if s <= 2400:\n",
        "    reten = (12/100)*s\n",
        "    fgts = (8/100)*s\n",
        "    liqui = s - reten -fgts\n",
        "    print(f'O salário bruto é R${s}, o valor retido pelo INSS é R${reten}, o valor retido pelo FGTS é de R${fgts} e o salário líquido é R${liqui}.')\n",
        "\n",
        "  elif s > 2400:\n",
        "    reten = (15/100)*s\n",
        "    fgts = (8/100)*s\n",
        "    liqui = s - reten -fgts\n",
        "    print(f'O salário bruto é R${s}, o valor retido pelo INSS é R${reten},o valor retido pelo FGTS é de R${fgts} e o salário líquido é R${liqui}.')    \n",
        "\n",
        "  break"
      ],
      "metadata": {
        "colab": {
          "base_uri": "https://localhost:8080/"
        },
        "id": "RnEqjc_y3LRo",
        "outputId": "8b0d5c41-402c-4dcf-b3e9-7815a94f995e"
      },
      "execution_count": null,
      "outputs": [
        {
          "output_type": "stream",
          "name": "stdout",
          "text": [
            "Digite o valor do salário: R$3000\n",
            "O salário bruto é R$3000.0, o valor retido pelo INSS é R$450.0,o valor retido pelo FGTS é de R$240.0 e o salário líquido é R$2310.0.\n"
          ]
        }
      ]
    },
    {
      "cell_type": "code",
      "source": [
        "#5) Crie um programa que leia o valor de um salário em reais e calcule o valor do INSS\n",
        "#(de acordo com a faixa salarial), , FGTS e Imposto de Renda(Se aplicável)\n",
        "#e ao final informe:\n",
        "  # o salário bruto,\n",
        "  #o valor de cada uma das retenções\n",
        "  #e o salário líquido do funcionário.\n",
        "#Você deverá usar funções para encontrar os valores de FGTS e INSS. O restante fica ao seu critério\n",
        "# INSS - \n",
        "# 12% (Até R$2400,00)\n",
        "# 15% (Acima de R$2400,00)\n",
        "\n",
        "# FGTS - 8%\n",
        "\n",
        "def menor(s):\n",
        "  if s <= 2400:\n",
        "    reten = (12/100)*s\n",
        "    fgts = (8/100)*s\n",
        "    liqui = s - reten -fgts\n",
        "    print(f'O salário bruto é R${s}, o valor retido pelo INSS é R${reten}, o valor retido pelo FGTS é de R${fgts} e o salário líquido é R${liqui}.')  \n",
        "\n",
        "def maior(s):\n",
        "  if s > 2400:\n",
        "    reten = (15/100)*s\n",
        "    fgts = (8/100)*s\n",
        "    liqui = s - reten -fgts\n",
        "    print(f'O salário bruto é R${s}, o valor retido pelo INSS é R${reten},o valor retido pelo FGTS é de R${fgts} e o salário líquido é R${liqui}.')    \n",
        "\n",
        "while True:\n",
        "  try:\n",
        "    s = float(input('Digite o valor do salário: R$'))\n",
        "  except:\n",
        "    print('Digite um número válido.')\n",
        "  break\n",
        "\n",
        "retorno = menor(s)\n",
        "retorno2 = maior(s)"
      ],
      "metadata": {
        "colab": {
          "base_uri": "https://localhost:8080/"
        },
        "id": "C3lQ4Txk_Vky",
        "outputId": "fbd497a2-40fc-4c27-90d0-efced4ce1b10"
      },
      "execution_count": null,
      "outputs": [
        {
          "output_type": "stream",
          "name": "stdout",
          "text": [
            "Digite o valor do salário: R$3000\n",
            "O salário bruto é R$3000.0, o valor retido pelo INSS é R$450.0,o valor retido pelo FGTS é de R$240.0 e o salário líquido é R$2310.0.\n"
          ]
        }
      ]
    },
    {
      "cell_type": "code",
      "source": [
        ""
      ],
      "metadata": {
        "id": "3ALqWKnyNnyk"
      },
      "execution_count": null,
      "outputs": []
    }
  ]
}